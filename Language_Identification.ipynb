{
  "nbformat": 4,
  "nbformat_minor": 0,
  "metadata": {
    "colab": {
      "provenance": []
    },
    "kernelspec": {
      "name": "python3",
      "display_name": "Python 3"
    },
    "language_info": {
      "name": "python"
    }
  },
  "cells": [
    {
      "cell_type": "markdown",
      "source": [
        "# Language Classification\n",
        "\n",
        "This Language identification model leveraging pretrained FastText embeddings from [HuggingFace](https://huggingface.co/), which efficiently identifies languages in text data. This robust tool ensures precise detection of languages in various text inputs, enhancing text classification tasks and natural language processing applications with high accuracy and reliability."
      ],
      "metadata": {
        "id": "uPoVN0zmX3HK"
      }
    },
    {
      "cell_type": "code",
      "source": [
        "!pip install fasttext"
      ],
      "metadata": {
        "id": "eU2cJZqSPkuu",
        "colab": {
          "base_uri": "https://localhost:8080/"
        },
        "outputId": "55a506a3-3443-4465-9d4a-9b88836a30de"
      },
      "execution_count": null,
      "outputs": [
        {
          "output_type": "stream",
          "name": "stdout",
          "text": [
            "Requirement already satisfied: fasttext in /usr/local/lib/python3.10/dist-packages (0.9.3)\n",
            "Requirement already satisfied: pybind11>=2.2 in /usr/local/lib/python3.10/dist-packages (from fasttext) (2.12.0)\n",
            "Requirement already satisfied: setuptools>=0.7.0 in /usr/local/lib/python3.10/dist-packages (from fasttext) (67.7.2)\n",
            "Requirement already satisfied: numpy in /usr/local/lib/python3.10/dist-packages (from fasttext) (1.25.2)\n"
          ]
        }
      ]
    },
    {
      "cell_type": "markdown",
      "source": [
        "## Importing Libraries"
      ],
      "metadata": {
        "id": "NbKAczn4b6RK"
      }
    },
    {
      "cell_type": "code",
      "source": [
        "import warnings\n",
        "import fasttext\n",
        "from huggingface_hub import hf_hub_download\n",
        "\n",
        "warnings.filterwarnings('ignore')"
      ],
      "metadata": {
        "id": "LIwHv5iaYAYS"
      },
      "execution_count": null,
      "outputs": []
    },
    {
      "cell_type": "markdown",
      "source": [
        "## Preparing model"
      ],
      "metadata": {
        "id": "bpkPVXSgbRWs"
      }
    },
    {
      "cell_type": "code",
      "source": [
        "model_path = hf_hub_download(repo_id=\"facebook/fasttext-language-identification\", filename=\"model.bin\")\n",
        "model = fasttext.load_model(model_path)"
      ],
      "metadata": {
        "id": "rUxPubs3fJHZ"
      },
      "execution_count": null,
      "outputs": []
    },
    {
      "cell_type": "markdown",
      "source": [
        "## Predicting Language"
      ],
      "metadata": {
        "id": "pnO_O3fAbknu"
      }
    },
    {
      "cell_type": "code",
      "source": [
        "print(model.predict(\"Hello, world!\"))"
      ],
      "metadata": {
        "colab": {
          "base_uri": "https://localhost:8080/"
        },
        "id": "mHteM5GyYIv-",
        "outputId": "c8c25669-e8fc-4f49-ee6e-acd4d85ca2d6"
      },
      "execution_count": null,
      "outputs": [
        {
          "output_type": "stream",
          "name": "stdout",
          "text": [
            "(('__label__eng_Latn',), array([0.61224753]))\n"
          ]
        }
      ]
    },
    {
      "cell_type": "code",
      "source": [
        "print(model.predict(\"নমস্কার\"))"
      ],
      "metadata": {
        "colab": {
          "base_uri": "https://localhost:8080/"
        },
        "id": "v6b5vm5Sk1cL",
        "outputId": "65f0127e-1011-48e1-a244-135dea2ee2e8"
      },
      "execution_count": null,
      "outputs": [
        {
          "output_type": "stream",
          "name": "stdout",
          "text": [
            "(('__label__ben_Beng',), array([1.00001001]))\n"
          ]
        }
      ]
    },
    {
      "cell_type": "code",
      "source": [
        "print(model.predict(\"こんにちは世界\"))"
      ],
      "metadata": {
        "id": "IXqXpL6sNyKH",
        "colab": {
          "base_uri": "https://localhost:8080/"
        },
        "outputId": "c2c8b2d5-5738-4827-ffdc-e655c0e7f65a"
      },
      "execution_count": null,
      "outputs": [
        {
          "output_type": "stream",
          "name": "stdout",
          "text": [
            "(('__label__jpn_Jpan',), array([0.83334976]))\n"
          ]
        }
      ]
    },
    {
      "cell_type": "code",
      "source": [],
      "metadata": {
        "id": "bWLY6etvZGNJ"
      },
      "execution_count": null,
      "outputs": []
    }
  ]
}